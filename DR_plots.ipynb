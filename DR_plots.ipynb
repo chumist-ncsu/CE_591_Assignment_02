{
 "cells": [
  {
   "cell_type": "code",
   "execution_count": 1,
   "id": "8c68c928",
   "metadata": {
    "ExecuteTime": {
     "end_time": "2025-10-15T15:41:21.190257Z",
     "start_time": "2025-10-15T15:41:21.161647Z"
    }
   },
   "outputs": [],
   "source": [
    "from pyomo.environ import *\n",
    "import pandas as pd\n",
    "import plotly.express as px\n",
    "import json\n",
    "from unit_commitment_model_solar import define_model"
   ]
  },
  {
   "cell_type": "code",
   "execution_count": null,
   "id": "b0528a85",
   "metadata": {
    "ExecuteTime": {
     "end_time": "2025-10-15T16:12:22.908637Z",
     "start_time": "2025-10-15T16:12:22.900847Z"
    }
   },
   "outputs": [
    {
     "data": {
      "text/html": [
       "<div>\n",
       "<style scoped>\n",
       "    .dataframe tbody tr th:only-of-type {\n",
       "        vertical-align: middle;\n",
       "    }\n",
       "\n",
       "    .dataframe tbody tr th {\n",
       "        vertical-align: top;\n",
       "    }\n",
       "\n",
       "    .dataframe thead th {\n",
       "        text-align: right;\n",
       "    }\n",
       "</style>\n",
       "<table border=\"1\" class=\"dataframe\">\n",
       "  <thead>\n",
       "    <tr style=\"text-align: right;\">\n",
       "      <th></th>\n",
       "      <th>0.00</th>\n",
       "      <th>0.05</th>\n",
       "      <th>0.10</th>\n",
       "      <th>0.15</th>\n",
       "      <th>0.20</th>\n",
       "      <th>0.25</th>\n",
       "      <th>0.30</th>\n",
       "      <th>0.35</th>\n",
       "      <th>0.40</th>\n",
       "      <th>0.45</th>\n",
       "      <th>0.50</th>\n",
       "      <th>0.55</th>\n",
       "      <th>0.60</th>\n",
       "      <th>0.65</th>\n",
       "      <th>0.70</th>\n",
       "      <th>0.75</th>\n",
       "      <th>0.80</th>\n",
       "      <th>0.85</th>\n",
       "      <th>0.90</th>\n",
       "      <th>0.95</th>\n",
       "    </tr>\n",
       "  </thead>\n",
       "  <tbody>\n",
       "    <tr>\n",
       "      <th>0</th>\n",
       "      <td>725733</td>\n",
       "      <td>725733</td>\n",
       "      <td>725733</td>\n",
       "      <td>725733</td>\n",
       "      <td>725733</td>\n",
       "      <td>725733</td>\n",
       "      <td>725733</td>\n",
       "      <td>725733</td>\n",
       "      <td>725733</td>\n",
       "      <td>725733</td>\n",
       "      <td>725733</td>\n",
       "      <td>725733</td>\n",
       "      <td>725733</td>\n",
       "      <td>725733</td>\n",
       "      <td>725733</td>\n",
       "      <td>725733</td>\n",
       "      <td>725733</td>\n",
       "      <td>725733</td>\n",
       "      <td>725733</td>\n",
       "      <td>725733</td>\n",
       "    </tr>\n",
       "    <tr>\n",
       "      <th>1</th>\n",
       "      <td>725733</td>\n",
       "      <td>724182</td>\n",
       "      <td>723561</td>\n",
       "      <td>721370</td>\n",
       "      <td>720783</td>\n",
       "      <td>720271</td>\n",
       "      <td>719925</td>\n",
       "      <td>719671</td>\n",
       "      <td>719418</td>\n",
       "      <td>719164</td>\n",
       "      <td>718911</td>\n",
       "      <td>718657</td>\n",
       "      <td>718404</td>\n",
       "      <td>718284</td>\n",
       "      <td>718284</td>\n",
       "      <td>718284</td>\n",
       "      <td>718284</td>\n",
       "      <td>718284</td>\n",
       "      <td>718284</td>\n",
       "      <td>718284</td>\n",
       "    </tr>\n",
       "    <tr>\n",
       "      <th>2</th>\n",
       "      <td>725733</td>\n",
       "      <td>723530</td>\n",
       "      <td>720721</td>\n",
       "      <td>719990</td>\n",
       "      <td>719356</td>\n",
       "      <td>718833</td>\n",
       "      <td>718324</td>\n",
       "      <td>718284</td>\n",
       "      <td>718284</td>\n",
       "      <td>718284</td>\n",
       "      <td>718284</td>\n",
       "      <td>718284</td>\n",
       "      <td>718284</td>\n",
       "      <td>718284</td>\n",
       "      <td>718284</td>\n",
       "      <td>718284</td>\n",
       "      <td>718284</td>\n",
       "      <td>718284</td>\n",
       "      <td>718284</td>\n",
       "      <td>718284</td>\n",
       "    </tr>\n",
       "    <tr>\n",
       "      <th>3</th>\n",
       "      <td>725733</td>\n",
       "      <td>721413</td>\n",
       "      <td>720064</td>\n",
       "      <td>719136</td>\n",
       "      <td>718284</td>\n",
       "      <td>718284</td>\n",
       "      <td>718284</td>\n",
       "      <td>718284</td>\n",
       "      <td>718284</td>\n",
       "      <td>718284</td>\n",
       "      <td>718284</td>\n",
       "      <td>718284</td>\n",
       "      <td>718284</td>\n",
       "      <td>718284</td>\n",
       "      <td>718284</td>\n",
       "      <td>718284</td>\n",
       "      <td>718284</td>\n",
       "      <td>718284</td>\n",
       "      <td>718284</td>\n",
       "      <td>718283</td>\n",
       "    </tr>\n",
       "    <tr>\n",
       "      <th>4</th>\n",
       "      <td>725733</td>\n",
       "      <td>720909</td>\n",
       "      <td>719467</td>\n",
       "      <td>718353</td>\n",
       "      <td>718284</td>\n",
       "      <td>718284</td>\n",
       "      <td>718284</td>\n",
       "      <td>718284</td>\n",
       "      <td>718284</td>\n",
       "      <td>718284</td>\n",
       "      <td>718284</td>\n",
       "      <td>718284</td>\n",
       "      <td>718284</td>\n",
       "      <td>718284</td>\n",
       "      <td>718284</td>\n",
       "      <td>718284</td>\n",
       "      <td>718284</td>\n",
       "      <td>718284</td>\n",
       "      <td>718284</td>\n",
       "      <td>718284</td>\n",
       "    </tr>\n",
       "    <tr>\n",
       "      <th>5</th>\n",
       "      <td>725733</td>\n",
       "      <td>720829</td>\n",
       "      <td>719279</td>\n",
       "      <td>718353</td>\n",
       "      <td>718284</td>\n",
       "      <td>718284</td>\n",
       "      <td>718284</td>\n",
       "      <td>718284</td>\n",
       "      <td>718284</td>\n",
       "      <td>718284</td>\n",
       "      <td>718284</td>\n",
       "      <td>718284</td>\n",
       "      <td>718284</td>\n",
       "      <td>718284</td>\n",
       "      <td>718284</td>\n",
       "      <td>718284</td>\n",
       "      <td>718284</td>\n",
       "      <td>718284</td>\n",
       "      <td>718284</td>\n",
       "      <td>718284</td>\n",
       "    </tr>\n",
       "    <tr>\n",
       "      <th>6</th>\n",
       "      <td>725733</td>\n",
       "      <td>720829</td>\n",
       "      <td>719279</td>\n",
       "      <td>718353</td>\n",
       "      <td>718284</td>\n",
       "      <td>718284</td>\n",
       "      <td>718284</td>\n",
       "      <td>718284</td>\n",
       "      <td>718284</td>\n",
       "      <td>718284</td>\n",
       "      <td>718284</td>\n",
       "      <td>718284</td>\n",
       "      <td>718284</td>\n",
       "      <td>718284</td>\n",
       "      <td>718284</td>\n",
       "      <td>718284</td>\n",
       "      <td>718284</td>\n",
       "      <td>718284</td>\n",
       "      <td>718284</td>\n",
       "      <td>718284</td>\n",
       "    </tr>\n",
       "    <tr>\n",
       "      <th>7</th>\n",
       "      <td>725733</td>\n",
       "      <td>720829</td>\n",
       "      <td>719279</td>\n",
       "      <td>718353</td>\n",
       "      <td>718284</td>\n",
       "      <td>718284</td>\n",
       "      <td>718284</td>\n",
       "      <td>718284</td>\n",
       "      <td>718284</td>\n",
       "      <td>718284</td>\n",
       "      <td>718284</td>\n",
       "      <td>718284</td>\n",
       "      <td>718284</td>\n",
       "      <td>718284</td>\n",
       "      <td>718284</td>\n",
       "      <td>718284</td>\n",
       "      <td>718284</td>\n",
       "      <td>718283</td>\n",
       "      <td>718284</td>\n",
       "      <td>718284</td>\n",
       "    </tr>\n",
       "    <tr>\n",
       "      <th>8</th>\n",
       "      <td>725733</td>\n",
       "      <td>720829</td>\n",
       "      <td>719279</td>\n",
       "      <td>718353</td>\n",
       "      <td>718284</td>\n",
       "      <td>718284</td>\n",
       "      <td>718284</td>\n",
       "      <td>718284</td>\n",
       "      <td>718284</td>\n",
       "      <td>718284</td>\n",
       "      <td>718284</td>\n",
       "      <td>718284</td>\n",
       "      <td>718284</td>\n",
       "      <td>718284</td>\n",
       "      <td>718284</td>\n",
       "      <td>718284</td>\n",
       "      <td>718284</td>\n",
       "      <td>718284</td>\n",
       "      <td>718284</td>\n",
       "      <td>718284</td>\n",
       "    </tr>\n",
       "    <tr>\n",
       "      <th>9</th>\n",
       "      <td>725733</td>\n",
       "      <td>720829</td>\n",
       "      <td>719279</td>\n",
       "      <td>718353</td>\n",
       "      <td>718284</td>\n",
       "      <td>718284</td>\n",
       "      <td>718284</td>\n",
       "      <td>718284</td>\n",
       "      <td>718284</td>\n",
       "      <td>718284</td>\n",
       "      <td>718284</td>\n",
       "      <td>718284</td>\n",
       "      <td>718284</td>\n",
       "      <td>718284</td>\n",
       "      <td>718284</td>\n",
       "      <td>718284</td>\n",
       "      <td>718284</td>\n",
       "      <td>718284</td>\n",
       "      <td>718284</td>\n",
       "      <td>718284</td>\n",
       "    </tr>\n",
       "    <tr>\n",
       "      <th>10</th>\n",
       "      <td>725733</td>\n",
       "      <td>720829</td>\n",
       "      <td>719279</td>\n",
       "      <td>718353</td>\n",
       "      <td>718284</td>\n",
       "      <td>718284</td>\n",
       "      <td>718284</td>\n",
       "      <td>718284</td>\n",
       "      <td>718284</td>\n",
       "      <td>718284</td>\n",
       "      <td>718284</td>\n",
       "      <td>718284</td>\n",
       "      <td>718284</td>\n",
       "      <td>718284</td>\n",
       "      <td>718284</td>\n",
       "      <td>718284</td>\n",
       "      <td>718284</td>\n",
       "      <td>718284</td>\n",
       "      <td>718284</td>\n",
       "      <td>718284</td>\n",
       "    </tr>\n",
       "    <tr>\n",
       "      <th>11</th>\n",
       "      <td>725733</td>\n",
       "      <td>720829</td>\n",
       "      <td>719279</td>\n",
       "      <td>718353</td>\n",
       "      <td>718284</td>\n",
       "      <td>718284</td>\n",
       "      <td>718284</td>\n",
       "      <td>718284</td>\n",
       "      <td>718284</td>\n",
       "      <td>718284</td>\n",
       "      <td>718284</td>\n",
       "      <td>718284</td>\n",
       "      <td>718284</td>\n",
       "      <td>718284</td>\n",
       "      <td>718284</td>\n",
       "      <td>718284</td>\n",
       "      <td>718284</td>\n",
       "      <td>718284</td>\n",
       "      <td>718284</td>\n",
       "      <td>718284</td>\n",
       "    </tr>\n",
       "    <tr>\n",
       "      <th>12</th>\n",
       "      <td>725733</td>\n",
       "      <td>720829</td>\n",
       "      <td>719279</td>\n",
       "      <td>718353</td>\n",
       "      <td>718284</td>\n",
       "      <td>718284</td>\n",
       "      <td>718284</td>\n",
       "      <td>718284</td>\n",
       "      <td>718284</td>\n",
       "      <td>718284</td>\n",
       "      <td>718284</td>\n",
       "      <td>718284</td>\n",
       "      <td>718284</td>\n",
       "      <td>718284</td>\n",
       "      <td>718284</td>\n",
       "      <td>718284</td>\n",
       "      <td>718284</td>\n",
       "      <td>718284</td>\n",
       "      <td>718284</td>\n",
       "      <td>718284</td>\n",
       "    </tr>\n",
       "    <tr>\n",
       "      <th>13</th>\n",
       "      <td>725733</td>\n",
       "      <td>720829</td>\n",
       "      <td>719279</td>\n",
       "      <td>718353</td>\n",
       "      <td>718284</td>\n",
       "      <td>718284</td>\n",
       "      <td>718284</td>\n",
       "      <td>718284</td>\n",
       "      <td>718284</td>\n",
       "      <td>718284</td>\n",
       "      <td>718284</td>\n",
       "      <td>718284</td>\n",
       "      <td>718284</td>\n",
       "      <td>718284</td>\n",
       "      <td>718284</td>\n",
       "      <td>718284</td>\n",
       "      <td>718284</td>\n",
       "      <td>718284</td>\n",
       "      <td>718284</td>\n",
       "      <td>718284</td>\n",
       "    </tr>\n",
       "    <tr>\n",
       "      <th>14</th>\n",
       "      <td>725733</td>\n",
       "      <td>720829</td>\n",
       "      <td>719279</td>\n",
       "      <td>718353</td>\n",
       "      <td>718284</td>\n",
       "      <td>718284</td>\n",
       "      <td>718284</td>\n",
       "      <td>718284</td>\n",
       "      <td>718284</td>\n",
       "      <td>718284</td>\n",
       "      <td>718284</td>\n",
       "      <td>718284</td>\n",
       "      <td>718284</td>\n",
       "      <td>718284</td>\n",
       "      <td>718284</td>\n",
       "      <td>718284</td>\n",
       "      <td>718284</td>\n",
       "      <td>718284</td>\n",
       "      <td>718284</td>\n",
       "      <td>718284</td>\n",
       "    </tr>\n",
       "    <tr>\n",
       "      <th>15</th>\n",
       "      <td>725733</td>\n",
       "      <td>720829</td>\n",
       "      <td>719279</td>\n",
       "      <td>718353</td>\n",
       "      <td>718284</td>\n",
       "      <td>718284</td>\n",
       "      <td>718284</td>\n",
       "      <td>718284</td>\n",
       "      <td>718284</td>\n",
       "      <td>718284</td>\n",
       "      <td>718284</td>\n",
       "      <td>718284</td>\n",
       "      <td>718284</td>\n",
       "      <td>718284</td>\n",
       "      <td>718284</td>\n",
       "      <td>718284</td>\n",
       "      <td>718284</td>\n",
       "      <td>718284</td>\n",
       "      <td>718284</td>\n",
       "      <td>718284</td>\n",
       "    </tr>\n",
       "    <tr>\n",
       "      <th>16</th>\n",
       "      <td>725733</td>\n",
       "      <td>720829</td>\n",
       "      <td>719279</td>\n",
       "      <td>718353</td>\n",
       "      <td>718284</td>\n",
       "      <td>718284</td>\n",
       "      <td>718284</td>\n",
       "      <td>718284</td>\n",
       "      <td>718284</td>\n",
       "      <td>718284</td>\n",
       "      <td>718284</td>\n",
       "      <td>718284</td>\n",
       "      <td>718284</td>\n",
       "      <td>718284</td>\n",
       "      <td>718284</td>\n",
       "      <td>718284</td>\n",
       "      <td>718284</td>\n",
       "      <td>718284</td>\n",
       "      <td>718284</td>\n",
       "      <td>718284</td>\n",
       "    </tr>\n",
       "    <tr>\n",
       "      <th>17</th>\n",
       "      <td>725733</td>\n",
       "      <td>720829</td>\n",
       "      <td>719279</td>\n",
       "      <td>718353</td>\n",
       "      <td>718283</td>\n",
       "      <td>718284</td>\n",
       "      <td>718284</td>\n",
       "      <td>718284</td>\n",
       "      <td>718284</td>\n",
       "      <td>718284</td>\n",
       "      <td>718284</td>\n",
       "      <td>718284</td>\n",
       "      <td>718284</td>\n",
       "      <td>718284</td>\n",
       "      <td>718284</td>\n",
       "      <td>718284</td>\n",
       "      <td>718284</td>\n",
       "      <td>718284</td>\n",
       "      <td>718284</td>\n",
       "      <td>718284</td>\n",
       "    </tr>\n",
       "    <tr>\n",
       "      <th>18</th>\n",
       "      <td>725733</td>\n",
       "      <td>720829</td>\n",
       "      <td>719279</td>\n",
       "      <td>718353</td>\n",
       "      <td>718284</td>\n",
       "      <td>718284</td>\n",
       "      <td>718284</td>\n",
       "      <td>718284</td>\n",
       "      <td>718284</td>\n",
       "      <td>718284</td>\n",
       "      <td>718284</td>\n",
       "      <td>718284</td>\n",
       "      <td>718284</td>\n",
       "      <td>718284</td>\n",
       "      <td>718284</td>\n",
       "      <td>718284</td>\n",
       "      <td>718284</td>\n",
       "      <td>718284</td>\n",
       "      <td>718284</td>\n",
       "      <td>718284</td>\n",
       "    </tr>\n",
       "    <tr>\n",
       "      <th>19</th>\n",
       "      <td>725733</td>\n",
       "      <td>720829</td>\n",
       "      <td>719279</td>\n",
       "      <td>718353</td>\n",
       "      <td>718284</td>\n",
       "      <td>718284</td>\n",
       "      <td>718284</td>\n",
       "      <td>718284</td>\n",
       "      <td>718284</td>\n",
       "      <td>718284</td>\n",
       "      <td>718284</td>\n",
       "      <td>718284</td>\n",
       "      <td>718284</td>\n",
       "      <td>718284</td>\n",
       "      <td>718284</td>\n",
       "      <td>718284</td>\n",
       "      <td>718284</td>\n",
       "      <td>718284</td>\n",
       "      <td>718284</td>\n",
       "      <td>718284</td>\n",
       "    </tr>\n",
       "    <tr>\n",
       "      <th>20</th>\n",
       "      <td>725733</td>\n",
       "      <td>720829</td>\n",
       "      <td>719279</td>\n",
       "      <td>718353</td>\n",
       "      <td>718284</td>\n",
       "      <td>718284</td>\n",
       "      <td>718284</td>\n",
       "      <td>718284</td>\n",
       "      <td>718284</td>\n",
       "      <td>718284</td>\n",
       "      <td>718284</td>\n",
       "      <td>718284</td>\n",
       "      <td>718284</td>\n",
       "      <td>718284</td>\n",
       "      <td>718284</td>\n",
       "      <td>718284</td>\n",
       "      <td>718284</td>\n",
       "      <td>718284</td>\n",
       "      <td>718284</td>\n",
       "      <td>718284</td>\n",
       "    </tr>\n",
       "    <tr>\n",
       "      <th>21</th>\n",
       "      <td>725733</td>\n",
       "      <td>720829</td>\n",
       "      <td>719279</td>\n",
       "      <td>718353</td>\n",
       "      <td>718284</td>\n",
       "      <td>718284</td>\n",
       "      <td>718284</td>\n",
       "      <td>718284</td>\n",
       "      <td>718284</td>\n",
       "      <td>718284</td>\n",
       "      <td>718284</td>\n",
       "      <td>718284</td>\n",
       "      <td>718284</td>\n",
       "      <td>718284</td>\n",
       "      <td>718284</td>\n",
       "      <td>718284</td>\n",
       "      <td>718284</td>\n",
       "      <td>718284</td>\n",
       "      <td>718284</td>\n",
       "      <td>718284</td>\n",
       "    </tr>\n",
       "    <tr>\n",
       "      <th>22</th>\n",
       "      <td>725733</td>\n",
       "      <td>720829</td>\n",
       "      <td>719279</td>\n",
       "      <td>718353</td>\n",
       "      <td>718284</td>\n",
       "      <td>718284</td>\n",
       "      <td>718284</td>\n",
       "      <td>718284</td>\n",
       "      <td>718284</td>\n",
       "      <td>718284</td>\n",
       "      <td>718284</td>\n",
       "      <td>718284</td>\n",
       "      <td>718284</td>\n",
       "      <td>718284</td>\n",
       "      <td>718284</td>\n",
       "      <td>718284</td>\n",
       "      <td>718284</td>\n",
       "      <td>718284</td>\n",
       "      <td>718284</td>\n",
       "      <td>718284</td>\n",
       "    </tr>\n",
       "    <tr>\n",
       "      <th>23</th>\n",
       "      <td>725733</td>\n",
       "      <td>720829</td>\n",
       "      <td>719279</td>\n",
       "      <td>718353</td>\n",
       "      <td>718284</td>\n",
       "      <td>718284</td>\n",
       "      <td>718284</td>\n",
       "      <td>718284</td>\n",
       "      <td>718284</td>\n",
       "      <td>718284</td>\n",
       "      <td>718284</td>\n",
       "      <td>718284</td>\n",
       "      <td>718284</td>\n",
       "      <td>718284</td>\n",
       "      <td>718284</td>\n",
       "      <td>718284</td>\n",
       "      <td>718284</td>\n",
       "      <td>718284</td>\n",
       "      <td>718284</td>\n",
       "      <td>718284</td>\n",
       "    </tr>\n",
       "  </tbody>\n",
       "</table>\n",
       "</div>"
      ],
      "text/plain": [
       "      0.00    0.05    0.10    0.15    0.20    0.25    0.30    0.35    0.40  \\\n",
       "0   725733  725733  725733  725733  725733  725733  725733  725733  725733   \n",
       "1   725733  724182  723561  721370  720783  720271  719925  719671  719418   \n",
       "2   725733  723530  720721  719990  719356  718833  718324  718284  718284   \n",
       "3   725733  721413  720064  719136  718284  718284  718284  718284  718284   \n",
       "4   725733  720909  719467  718353  718284  718284  718284  718284  718284   \n",
       "5   725733  720829  719279  718353  718284  718284  718284  718284  718284   \n",
       "6   725733  720829  719279  718353  718284  718284  718284  718284  718284   \n",
       "7   725733  720829  719279  718353  718284  718284  718284  718284  718284   \n",
       "8   725733  720829  719279  718353  718284  718284  718284  718284  718284   \n",
       "9   725733  720829  719279  718353  718284  718284  718284  718284  718284   \n",
       "10  725733  720829  719279  718353  718284  718284  718284  718284  718284   \n",
       "11  725733  720829  719279  718353  718284  718284  718284  718284  718284   \n",
       "12  725733  720829  719279  718353  718284  718284  718284  718284  718284   \n",
       "13  725733  720829  719279  718353  718284  718284  718284  718284  718284   \n",
       "14  725733  720829  719279  718353  718284  718284  718284  718284  718284   \n",
       "15  725733  720829  719279  718353  718284  718284  718284  718284  718284   \n",
       "16  725733  720829  719279  718353  718284  718284  718284  718284  718284   \n",
       "17  725733  720829  719279  718353  718283  718284  718284  718284  718284   \n",
       "18  725733  720829  719279  718353  718284  718284  718284  718284  718284   \n",
       "19  725733  720829  719279  718353  718284  718284  718284  718284  718284   \n",
       "20  725733  720829  719279  718353  718284  718284  718284  718284  718284   \n",
       "21  725733  720829  719279  718353  718284  718284  718284  718284  718284   \n",
       "22  725733  720829  719279  718353  718284  718284  718284  718284  718284   \n",
       "23  725733  720829  719279  718353  718284  718284  718284  718284  718284   \n",
       "\n",
       "      0.45    0.50    0.55    0.60    0.65    0.70    0.75    0.80    0.85  \\\n",
       "0   725733  725733  725733  725733  725733  725733  725733  725733  725733   \n",
       "1   719164  718911  718657  718404  718284  718284  718284  718284  718284   \n",
       "2   718284  718284  718284  718284  718284  718284  718284  718284  718284   \n",
       "3   718284  718284  718284  718284  718284  718284  718284  718284  718284   \n",
       "4   718284  718284  718284  718284  718284  718284  718284  718284  718284   \n",
       "5   718284  718284  718284  718284  718284  718284  718284  718284  718284   \n",
       "6   718284  718284  718284  718284  718284  718284  718284  718284  718284   \n",
       "7   718284  718284  718284  718284  718284  718284  718284  718284  718283   \n",
       "8   718284  718284  718284  718284  718284  718284  718284  718284  718284   \n",
       "9   718284  718284  718284  718284  718284  718284  718284  718284  718284   \n",
       "10  718284  718284  718284  718284  718284  718284  718284  718284  718284   \n",
       "11  718284  718284  718284  718284  718284  718284  718284  718284  718284   \n",
       "12  718284  718284  718284  718284  718284  718284  718284  718284  718284   \n",
       "13  718284  718284  718284  718284  718284  718284  718284  718284  718284   \n",
       "14  718284  718284  718284  718284  718284  718284  718284  718284  718284   \n",
       "15  718284  718284  718284  718284  718284  718284  718284  718284  718284   \n",
       "16  718284  718284  718284  718284  718284  718284  718284  718284  718284   \n",
       "17  718284  718284  718284  718284  718284  718284  718284  718284  718284   \n",
       "18  718284  718284  718284  718284  718284  718284  718284  718284  718284   \n",
       "19  718284  718284  718284  718284  718284  718284  718284  718284  718284   \n",
       "20  718284  718284  718284  718284  718284  718284  718284  718284  718284   \n",
       "21  718284  718284  718284  718284  718284  718284  718284  718284  718284   \n",
       "22  718284  718284  718284  718284  718284  718284  718284  718284  718284   \n",
       "23  718284  718284  718284  718284  718284  718284  718284  718284  718284   \n",
       "\n",
       "      0.90    0.95  \n",
       "0   725733  725733  \n",
       "1   718284  718284  \n",
       "2   718284  718284  \n",
       "3   718284  718283  \n",
       "4   718284  718284  \n",
       "5   718284  718284  \n",
       "6   718284  718284  \n",
       "7   718284  718284  \n",
       "8   718284  718284  \n",
       "9   718284  718284  \n",
       "10  718284  718284  \n",
       "11  718284  718284  \n",
       "12  718284  718284  \n",
       "13  718284  718284  \n",
       "14  718284  718284  \n",
       "15  718284  718284  \n",
       "16  718284  718284  \n",
       "17  718284  718284  \n",
       "18  718284  718284  \n",
       "19  718284  718284  \n",
       "20  718284  718284  \n",
       "21  718284  718284  \n",
       "22  718284  718284  \n",
       "23  718284  718284  "
      ]
     },
     "execution_count": 3,
     "metadata": {},
     "output_type": "execute_result"
    }
   ],
   "source": [
    "# cost_dict = {}\n",
    "# for p in range(0, 20):\n",
    "#     col = []\n",
    "#     for h in range(0, 24):\n",
    "#         model = define_model(shift_max_percent= p / 20, shift_max_hours= h)\n",
    "#         instance = model.create_instance(\"unit_commitment_data_solar.dat\")\n",
    "#         solver = SolverFactory('glpk')\n",
    "#         results = solver.solve(instance)\n",
    "#         col.append(int(instance.TotalCost()))\n",
    "#     cost_dict[str(p / 20)] = col\n",
    "\n",
    "# cost_df = pd.DataFrame(cost_dict)\n",
    "# cost_df.columns = [float(c) for c in list(cost_df.columns)]\n",
    "\n",
    "# cost_df.to_json(\"cost_df.json\", orient=\"index\", indent=4)\n"
   ]
  },
  {
   "cell_type": "code",
   "execution_count": 10,
   "id": "e9ee6dd11168bb1f",
   "metadata": {
    "ExecuteTime": {
     "end_time": "2025-10-15T16:28:20.515612Z",
     "start_time": "2025-10-15T16:28:20.489305Z"
    }
   },
   "outputs": [
    {
     "data": {
      "text/html": [
       "<div>\n",
       "<style scoped>\n",
       "    .dataframe tbody tr th:only-of-type {\n",
       "        vertical-align: middle;\n",
       "    }\n",
       "\n",
       "    .dataframe tbody tr th {\n",
       "        vertical-align: top;\n",
       "    }\n",
       "\n",
       "    .dataframe thead th {\n",
       "        text-align: right;\n",
       "    }\n",
       "</style>\n",
       "<table border=\"1\" class=\"dataframe\">\n",
       "  <thead>\n",
       "    <tr style=\"text-align: right;\">\n",
       "      <th></th>\n",
       "      <th>0.0</th>\n",
       "      <th>0.05</th>\n",
       "      <th>0.1</th>\n",
       "    </tr>\n",
       "  </thead>\n",
       "  <tbody>\n",
       "    <tr>\n",
       "      <th>0</th>\n",
       "      <td>725733</td>\n",
       "      <td>725733</td>\n",
       "      <td>725733</td>\n",
       "    </tr>\n",
       "    <tr>\n",
       "      <th>1</th>\n",
       "      <td>718284</td>\n",
       "      <td>724182</td>\n",
       "      <td>723561</td>\n",
       "    </tr>\n",
       "    <tr>\n",
       "      <th>2</th>\n",
       "      <td>718284</td>\n",
       "      <td>723530</td>\n",
       "      <td>720721</td>\n",
       "    </tr>\n",
       "  </tbody>\n",
       "</table>\n",
       "</div>"
      ],
      "text/plain": [
       "      0.0    0.05     0.1\n",
       "0  725733  725733  725733\n",
       "1  718284  724182  723561\n",
       "2  718284  723530  720721"
      ]
     },
     "execution_count": 10,
     "metadata": {},
     "output_type": "execute_result"
    }
   ],
   "source": [
    "with open(\"cost_df.json\", \"r\") as f:\n",
    "    data = json.load(f)\n",
    "\n",
    "cost_df = pd.DataFrame.from_dict(data, orient=\"index\")\n",
    "cost_df"
   ]
  },
  {
   "cell_type": "code",
   "execution_count": 4,
   "id": "269c416ab6bb3eff",
   "metadata": {
    "ExecuteTime": {
     "end_time": "2025-10-15T16:28:24.632327Z",
     "start_time": "2025-10-15T16:28:24.347385Z"
    }
   },
   "outputs": [
    {
     "data": {
      "application/vnd.plotly.v1+json": {
       "config": {
        "plotlyServerURL": "https://plot.ly"
       },
       "data": [
        {
         "coloraxis": "coloraxis",
         "hovertemplate": "x: %{x}<br>y: %{y}<br>color: %{z}<extra></extra>",
         "name": "0",
         "type": "heatmap",
         "x": {
          "bdata": "AAAAAAAAAACamZmZmZmpP5qZmZmZmbk/MzMzMzMzwz+amZmZmZnJPwAAAAAAANA/MzMzMzMz0z9mZmZmZmbWP5qZmZmZmdk/zczMzMzM3D8AAAAAAADgP5qZmZmZmeE/MzMzMzMz4z/NzMzMzMzkP2ZmZmZmZuY/AAAAAAAA6D+amZmZmZnpPzMzMzMzM+s/zczMzMzM7D9mZmZmZmbuPw==",
          "dtype": "f8"
         },
         "xaxis": "x",
         "y": {
          "bdata": "AAECAwQFBgcICQoLDA0ODxAREhMUFRYX",
          "dtype": "i1"
         },
         "yaxis": "y",
         "z": {
          "bdata": "5RILAOUSCwDlEgsA5RILAOUSCwDlEgsA5RILAOUSCwDlEgsA5RILAOUSCwDlEgsA5RILAOUSCwDlEgsA5RILAOUSCwDlEgsA5RILAOUSCwDlEgsA1gwLAGkKCwDaAQsAj/8KAI/9CgA1/AoAN/sKADr6CgA8+QoAP/gKAEH3CgBE9goAzPUKAMz1CgDM9QoAzPUKAMz1CgDM9QoAzPUKAOUSCwBKCgsAUf8KAHb8CgD8+QoA8fcKAPT1CgDM9QoAzPUKAMz1CgDM9QoAzPUKAMz1CgDM9QoAzPUKAMz1CgDM9QoAzPUKAMz1CgDM9QoA5RILAAUCCwDA/AoAIPkKAMz1CgDM9QoAzPUKAMz1CgDM9QoAzPUKAMz1CgDM9QoAzPUKAMz1CgDM9QoAzPUKAMz1CgDM9QoAzPUKAMv1CgDlEgsADQALAGv6CgAR9goAzPUKAMz1CgDM9QoAzPUKAMz1CgDM9QoAzPUKAMz1CgDM9QoAzPUKAMz1CgDM9QoAzPUKAMz1CgDM9QoAzPUKAOUSCwC9/woAr/kKABH2CgDM9QoAzPUKAMz1CgDM9QoAzPUKAMz1CgDM9QoAzPUKAMz1CgDM9QoAzPUKAMz1CgDM9QoAzPUKAMz1CgDM9QoA5RILAL3/CgCv+QoAEfYKAMz1CgDM9QoAzPUKAMz1CgDM9QoAzPUKAMz1CgDM9QoAzPUKAMz1CgDM9QoAzPUKAMz1CgDM9QoAzPUKAMz1CgDlEgsAvf8KAK/5CgAR9goAzPUKAMz1CgDM9QoAzPUKAMz1CgDM9QoAzPUKAMz1CgDM9QoAzPUKAMz1CgDM9QoAzPUKAMv1CgDM9QoAzPUKAOUSCwC9/woAr/kKABH2CgDM9QoAzPUKAMz1CgDM9QoAzPUKAMz1CgDM9QoAzPUKAMz1CgDM9QoAzPUKAMz1CgDM9QoAzPUKAMz1CgDM9QoA5RILAL3/CgCv+QoAEfYKAMz1CgDM9QoAzPUKAMz1CgDM9QoAzPUKAMz1CgDM9QoAzPUKAMz1CgDM9QoAzPUKAMz1CgDM9QoAzPUKAMz1CgDlEgsAvf8KAK/5CgAR9goAzPUKAMz1CgDM9QoAzPUKAMz1CgDM9QoAzPUKAMz1CgDM9QoAzPUKAMz1CgDM9QoAzPUKAMz1CgDM9QoAzPUKAOUSCwC9/woAr/kKABH2CgDM9QoAzPUKAMz1CgDM9QoAzPUKAMz1CgDM9QoAzPUKAMz1CgDM9QoAzPUKAMz1CgDM9QoAzPUKAMz1CgDM9QoA5RILAL3/CgCv+QoAEfYKAMz1CgDM9QoAzPUKAMz1CgDM9QoAzPUKAMz1CgDM9QoAzPUKAMz1CgDM9QoAzPUKAMz1CgDM9QoAzPUKAMz1CgDlEgsAvf8KAK/5CgAR9goAzPUKAMz1CgDM9QoAzPUKAMz1CgDM9QoAzPUKAMz1CgDM9QoAzPUKAMz1CgDM9QoAzPUKAMz1CgDM9QoAzPUKAOUSCwC9/woAr/kKABH2CgDM9QoAzPUKAMz1CgDM9QoAzPUKAMz1CgDM9QoAzPUKAMz1CgDM9QoAzPUKAMz1CgDM9QoAzPUKAMz1CgDM9QoA5RILAL3/CgCv+QoAEfYKAMz1CgDM9QoAzPUKAMz1CgDM9QoAzPUKAMz1CgDM9QoAzPUKAMz1CgDM9QoAzPUKAMz1CgDM9QoAzPUKAMz1CgDlEgsAvf8KAK/5CgAR9goAzPUKAMz1CgDM9QoAzPUKAMz1CgDM9QoAzPUKAMz1CgDM9QoAzPUKAMz1CgDM9QoAzPUKAMz1CgDM9QoAzPUKAOUSCwC9/woAr/kKABH2CgDL9QoAzPUKAMz1CgDM9QoAzPUKAMz1CgDM9QoAzPUKAMz1CgDM9QoAzPUKAMz1CgDM9QoAzPUKAMz1CgDM9QoA5RILAL3/CgCv+QoAEfYKAMz1CgDM9QoAzPUKAMz1CgDM9QoAzPUKAMz1CgDM9QoAzPUKAMz1CgDM9QoAzPUKAMz1CgDM9QoAzPUKAMz1CgDlEgsAvf8KAK/5CgAR9goAzPUKAMz1CgDM9QoAzPUKAMz1CgDM9QoAzPUKAMz1CgDM9QoAzPUKAMz1CgDM9QoAzPUKAMz1CgDM9QoAzPUKAOUSCwC9/woAr/kKABH2CgDM9QoAzPUKAMz1CgDM9QoAzPUKAMz1CgDM9QoAzPUKAMz1CgDM9QoAzPUKAMz1CgDM9QoAzPUKAMz1CgDM9QoA5RILAL3/CgCv+QoAEfYKAMz1CgDM9QoAzPUKAMz1CgDM9QoAzPUKAMz1CgDM9QoAzPUKAMz1CgDM9QoAzPUKAMz1CgDM9QoAzPUKAMz1CgDlEgsAvf8KAK/5CgAR9goAzPUKAMz1CgDM9QoAzPUKAMz1CgDM9QoAzPUKAMz1CgDM9QoAzPUKAMz1CgDM9QoAzPUKAMz1CgDM9QoAzPUKAOUSCwC9/woAr/kKABH2CgDM9QoAzPUKAMz1CgDM9QoAzPUKAMz1CgDM9QoAzPUKAMz1CgDM9QoAzPUKAMz1CgDM9QoAzPUKAMz1CgDM9QoA",
          "dtype": "i4",
          "shape": "24, 20"
         }
        }
       ],
       "layout": {
        "coloraxis": {
         "colorscale": [
          [
           0,
           "#0d0887"
          ],
          [
           0.1111111111111111,
           "#46039f"
          ],
          [
           0.2222222222222222,
           "#7201a8"
          ],
          [
           0.3333333333333333,
           "#9c179e"
          ],
          [
           0.4444444444444444,
           "#bd3786"
          ],
          [
           0.5555555555555556,
           "#d8576b"
          ],
          [
           0.6666666666666666,
           "#ed7953"
          ],
          [
           0.7777777777777778,
           "#fb9f3a"
          ],
          [
           0.8888888888888888,
           "#fdca26"
          ],
          [
           1,
           "#f0f921"
          ]
         ]
        },
        "margin": {
         "t": 60
        },
        "template": {
         "data": {
          "bar": [
           {
            "error_x": {
             "color": "#2a3f5f"
            },
            "error_y": {
             "color": "#2a3f5f"
            },
            "marker": {
             "line": {
              "color": "#E5ECF6",
              "width": 0.5
             },
             "pattern": {
              "fillmode": "overlay",
              "size": 10,
              "solidity": 0.2
             }
            },
            "type": "bar"
           }
          ],
          "barpolar": [
           {
            "marker": {
             "line": {
              "color": "#E5ECF6",
              "width": 0.5
             },
             "pattern": {
              "fillmode": "overlay",
              "size": 10,
              "solidity": 0.2
             }
            },
            "type": "barpolar"
           }
          ],
          "carpet": [
           {
            "aaxis": {
             "endlinecolor": "#2a3f5f",
             "gridcolor": "white",
             "linecolor": "white",
             "minorgridcolor": "white",
             "startlinecolor": "#2a3f5f"
            },
            "baxis": {
             "endlinecolor": "#2a3f5f",
             "gridcolor": "white",
             "linecolor": "white",
             "minorgridcolor": "white",
             "startlinecolor": "#2a3f5f"
            },
            "type": "carpet"
           }
          ],
          "choropleth": [
           {
            "colorbar": {
             "outlinewidth": 0,
             "ticks": ""
            },
            "type": "choropleth"
           }
          ],
          "contour": [
           {
            "colorbar": {
             "outlinewidth": 0,
             "ticks": ""
            },
            "colorscale": [
             [
              0,
              "#0d0887"
             ],
             [
              0.1111111111111111,
              "#46039f"
             ],
             [
              0.2222222222222222,
              "#7201a8"
             ],
             [
              0.3333333333333333,
              "#9c179e"
             ],
             [
              0.4444444444444444,
              "#bd3786"
             ],
             [
              0.5555555555555556,
              "#d8576b"
             ],
             [
              0.6666666666666666,
              "#ed7953"
             ],
             [
              0.7777777777777778,
              "#fb9f3a"
             ],
             [
              0.8888888888888888,
              "#fdca26"
             ],
             [
              1,
              "#f0f921"
             ]
            ],
            "type": "contour"
           }
          ],
          "contourcarpet": [
           {
            "colorbar": {
             "outlinewidth": 0,
             "ticks": ""
            },
            "type": "contourcarpet"
           }
          ],
          "heatmap": [
           {
            "colorbar": {
             "outlinewidth": 0,
             "ticks": ""
            },
            "colorscale": [
             [
              0,
              "#0d0887"
             ],
             [
              0.1111111111111111,
              "#46039f"
             ],
             [
              0.2222222222222222,
              "#7201a8"
             ],
             [
              0.3333333333333333,
              "#9c179e"
             ],
             [
              0.4444444444444444,
              "#bd3786"
             ],
             [
              0.5555555555555556,
              "#d8576b"
             ],
             [
              0.6666666666666666,
              "#ed7953"
             ],
             [
              0.7777777777777778,
              "#fb9f3a"
             ],
             [
              0.8888888888888888,
              "#fdca26"
             ],
             [
              1,
              "#f0f921"
             ]
            ],
            "type": "heatmap"
           }
          ],
          "histogram": [
           {
            "marker": {
             "pattern": {
              "fillmode": "overlay",
              "size": 10,
              "solidity": 0.2
             }
            },
            "type": "histogram"
           }
          ],
          "histogram2d": [
           {
            "colorbar": {
             "outlinewidth": 0,
             "ticks": ""
            },
            "colorscale": [
             [
              0,
              "#0d0887"
             ],
             [
              0.1111111111111111,
              "#46039f"
             ],
             [
              0.2222222222222222,
              "#7201a8"
             ],
             [
              0.3333333333333333,
              "#9c179e"
             ],
             [
              0.4444444444444444,
              "#bd3786"
             ],
             [
              0.5555555555555556,
              "#d8576b"
             ],
             [
              0.6666666666666666,
              "#ed7953"
             ],
             [
              0.7777777777777778,
              "#fb9f3a"
             ],
             [
              0.8888888888888888,
              "#fdca26"
             ],
             [
              1,
              "#f0f921"
             ]
            ],
            "type": "histogram2d"
           }
          ],
          "histogram2dcontour": [
           {
            "colorbar": {
             "outlinewidth": 0,
             "ticks": ""
            },
            "colorscale": [
             [
              0,
              "#0d0887"
             ],
             [
              0.1111111111111111,
              "#46039f"
             ],
             [
              0.2222222222222222,
              "#7201a8"
             ],
             [
              0.3333333333333333,
              "#9c179e"
             ],
             [
              0.4444444444444444,
              "#bd3786"
             ],
             [
              0.5555555555555556,
              "#d8576b"
             ],
             [
              0.6666666666666666,
              "#ed7953"
             ],
             [
              0.7777777777777778,
              "#fb9f3a"
             ],
             [
              0.8888888888888888,
              "#fdca26"
             ],
             [
              1,
              "#f0f921"
             ]
            ],
            "type": "histogram2dcontour"
           }
          ],
          "mesh3d": [
           {
            "colorbar": {
             "outlinewidth": 0,
             "ticks": ""
            },
            "type": "mesh3d"
           }
          ],
          "parcoords": [
           {
            "line": {
             "colorbar": {
              "outlinewidth": 0,
              "ticks": ""
             }
            },
            "type": "parcoords"
           }
          ],
          "pie": [
           {
            "automargin": true,
            "type": "pie"
           }
          ],
          "scatter": [
           {
            "fillpattern": {
             "fillmode": "overlay",
             "size": 10,
             "solidity": 0.2
            },
            "type": "scatter"
           }
          ],
          "scatter3d": [
           {
            "line": {
             "colorbar": {
              "outlinewidth": 0,
              "ticks": ""
             }
            },
            "marker": {
             "colorbar": {
              "outlinewidth": 0,
              "ticks": ""
             }
            },
            "type": "scatter3d"
           }
          ],
          "scattercarpet": [
           {
            "marker": {
             "colorbar": {
              "outlinewidth": 0,
              "ticks": ""
             }
            },
            "type": "scattercarpet"
           }
          ],
          "scattergeo": [
           {
            "marker": {
             "colorbar": {
              "outlinewidth": 0,
              "ticks": ""
             }
            },
            "type": "scattergeo"
           }
          ],
          "scattergl": [
           {
            "marker": {
             "colorbar": {
              "outlinewidth": 0,
              "ticks": ""
             }
            },
            "type": "scattergl"
           }
          ],
          "scattermap": [
           {
            "marker": {
             "colorbar": {
              "outlinewidth": 0,
              "ticks": ""
             }
            },
            "type": "scattermap"
           }
          ],
          "scattermapbox": [
           {
            "marker": {
             "colorbar": {
              "outlinewidth": 0,
              "ticks": ""
             }
            },
            "type": "scattermapbox"
           }
          ],
          "scatterpolar": [
           {
            "marker": {
             "colorbar": {
              "outlinewidth": 0,
              "ticks": ""
             }
            },
            "type": "scatterpolar"
           }
          ],
          "scatterpolargl": [
           {
            "marker": {
             "colorbar": {
              "outlinewidth": 0,
              "ticks": ""
             }
            },
            "type": "scatterpolargl"
           }
          ],
          "scatterternary": [
           {
            "marker": {
             "colorbar": {
              "outlinewidth": 0,
              "ticks": ""
             }
            },
            "type": "scatterternary"
           }
          ],
          "surface": [
           {
            "colorbar": {
             "outlinewidth": 0,
             "ticks": ""
            },
            "colorscale": [
             [
              0,
              "#0d0887"
             ],
             [
              0.1111111111111111,
              "#46039f"
             ],
             [
              0.2222222222222222,
              "#7201a8"
             ],
             [
              0.3333333333333333,
              "#9c179e"
             ],
             [
              0.4444444444444444,
              "#bd3786"
             ],
             [
              0.5555555555555556,
              "#d8576b"
             ],
             [
              0.6666666666666666,
              "#ed7953"
             ],
             [
              0.7777777777777778,
              "#fb9f3a"
             ],
             [
              0.8888888888888888,
              "#fdca26"
             ],
             [
              1,
              "#f0f921"
             ]
            ],
            "type": "surface"
           }
          ],
          "table": [
           {
            "cells": {
             "fill": {
              "color": "#EBF0F8"
             },
             "line": {
              "color": "white"
             }
            },
            "header": {
             "fill": {
              "color": "#C8D4E3"
             },
             "line": {
              "color": "white"
             }
            },
            "type": "table"
           }
          ]
         },
         "layout": {
          "annotationdefaults": {
           "arrowcolor": "#2a3f5f",
           "arrowhead": 0,
           "arrowwidth": 1
          },
          "autotypenumbers": "strict",
          "coloraxis": {
           "colorbar": {
            "outlinewidth": 0,
            "ticks": ""
           }
          },
          "colorscale": {
           "diverging": [
            [
             0,
             "#8e0152"
            ],
            [
             0.1,
             "#c51b7d"
            ],
            [
             0.2,
             "#de77ae"
            ],
            [
             0.3,
             "#f1b6da"
            ],
            [
             0.4,
             "#fde0ef"
            ],
            [
             0.5,
             "#f7f7f7"
            ],
            [
             0.6,
             "#e6f5d0"
            ],
            [
             0.7,
             "#b8e186"
            ],
            [
             0.8,
             "#7fbc41"
            ],
            [
             0.9,
             "#4d9221"
            ],
            [
             1,
             "#276419"
            ]
           ],
           "sequential": [
            [
             0,
             "#0d0887"
            ],
            [
             0.1111111111111111,
             "#46039f"
            ],
            [
             0.2222222222222222,
             "#7201a8"
            ],
            [
             0.3333333333333333,
             "#9c179e"
            ],
            [
             0.4444444444444444,
             "#bd3786"
            ],
            [
             0.5555555555555556,
             "#d8576b"
            ],
            [
             0.6666666666666666,
             "#ed7953"
            ],
            [
             0.7777777777777778,
             "#fb9f3a"
            ],
            [
             0.8888888888888888,
             "#fdca26"
            ],
            [
             1,
             "#f0f921"
            ]
           ],
           "sequentialminus": [
            [
             0,
             "#0d0887"
            ],
            [
             0.1111111111111111,
             "#46039f"
            ],
            [
             0.2222222222222222,
             "#7201a8"
            ],
            [
             0.3333333333333333,
             "#9c179e"
            ],
            [
             0.4444444444444444,
             "#bd3786"
            ],
            [
             0.5555555555555556,
             "#d8576b"
            ],
            [
             0.6666666666666666,
             "#ed7953"
            ],
            [
             0.7777777777777778,
             "#fb9f3a"
            ],
            [
             0.8888888888888888,
             "#fdca26"
            ],
            [
             1,
             "#f0f921"
            ]
           ]
          },
          "colorway": [
           "#636efa",
           "#EF553B",
           "#00cc96",
           "#ab63fa",
           "#FFA15A",
           "#19d3f3",
           "#FF6692",
           "#B6E880",
           "#FF97FF",
           "#FECB52"
          ],
          "font": {
           "color": "#2a3f5f"
          },
          "geo": {
           "bgcolor": "white",
           "lakecolor": "white",
           "landcolor": "#E5ECF6",
           "showlakes": true,
           "showland": true,
           "subunitcolor": "white"
          },
          "hoverlabel": {
           "align": "left"
          },
          "hovermode": "closest",
          "mapbox": {
           "style": "light"
          },
          "paper_bgcolor": "white",
          "plot_bgcolor": "#E5ECF6",
          "polar": {
           "angularaxis": {
            "gridcolor": "white",
            "linecolor": "white",
            "ticks": ""
           },
           "bgcolor": "#E5ECF6",
           "radialaxis": {
            "gridcolor": "white",
            "linecolor": "white",
            "ticks": ""
           }
          },
          "scene": {
           "xaxis": {
            "backgroundcolor": "#E5ECF6",
            "gridcolor": "white",
            "gridwidth": 2,
            "linecolor": "white",
            "showbackground": true,
            "ticks": "",
            "zerolinecolor": "white"
           },
           "yaxis": {
            "backgroundcolor": "#E5ECF6",
            "gridcolor": "white",
            "gridwidth": 2,
            "linecolor": "white",
            "showbackground": true,
            "ticks": "",
            "zerolinecolor": "white"
           },
           "zaxis": {
            "backgroundcolor": "#E5ECF6",
            "gridcolor": "white",
            "gridwidth": 2,
            "linecolor": "white",
            "showbackground": true,
            "ticks": "",
            "zerolinecolor": "white"
           }
          },
          "shapedefaults": {
           "line": {
            "color": "#2a3f5f"
           }
          },
          "ternary": {
           "aaxis": {
            "gridcolor": "white",
            "linecolor": "white",
            "ticks": ""
           },
           "baxis": {
            "gridcolor": "white",
            "linecolor": "white",
            "ticks": ""
           },
           "bgcolor": "#E5ECF6",
           "caxis": {
            "gridcolor": "white",
            "linecolor": "white",
            "ticks": ""
           }
          },
          "title": {
           "x": 0.05
          },
          "xaxis": {
           "automargin": true,
           "gridcolor": "white",
           "linecolor": "white",
           "ticks": "",
           "title": {
            "standoff": 15
           },
           "zerolinecolor": "white",
           "zerolinewidth": 2
          },
          "yaxis": {
           "automargin": true,
           "gridcolor": "white",
           "linecolor": "white",
           "ticks": "",
           "title": {
            "standoff": 15
           },
           "zerolinecolor": "white",
           "zerolinewidth": 2
          }
         }
        },
        "title": {
         "text": "Total Cost by Max Shift Percent and Hours"
        },
        "xaxis": {
         "anchor": "y",
         "domain": [
          0,
          1
         ],
         "title": {
          "text": "Max Shift Percent (%)"
         }
        },
        "yaxis": {
         "anchor": "x",
         "autorange": "reversed",
         "domain": [
          0,
          1
         ],
         "title": {
          "text": "Max Shift Hours"
         }
        }
       }
      }
     },
     "metadata": {},
     "output_type": "display_data"
    }
   ],
   "source": [
    "# Plot cost df\n",
    "fig = px.imshow(cost_df, aspect= \"auto\")\n",
    "fig.update_layout(\n",
    "    title=\"Total Cost by Max Shift Percent and Hours\",\n",
    "    xaxis_title=\"Max Shift Percent (%)\",\n",
    "    yaxis_title=\"Max Shift Hours\",\n",
    ")\n",
    "fig.show()"
   ]
  },
  {
   "cell_type": "code",
   "execution_count": null,
   "id": "57080242",
   "metadata": {},
   "outputs": [],
   "source": []
  }
 ],
 "metadata": {
  "kernelspec": {
   "display_name": "base",
   "language": "python",
   "name": "python3"
  },
  "language_info": {
   "codemirror_mode": {
    "name": "ipython",
    "version": 3
   },
   "file_extension": ".py",
   "mimetype": "text/x-python",
   "name": "python",
   "nbconvert_exporter": "python",
   "pygments_lexer": "ipython3",
   "version": "3.12.2"
  }
 },
 "nbformat": 4,
 "nbformat_minor": 5
}
